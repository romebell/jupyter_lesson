{
 "cells": [
  {
   "cell_type": "code",
   "execution_count": 3,
   "metadata": {},
   "outputs": [],
   "source": [
    "from selenium import webdriver"
   ]
  },
  {
   "cell_type": "code",
   "execution_count": 4,
   "metadata": {},
   "outputs": [],
   "source": [
    "import json, re, datetime, time, requests"
   ]
  },
  {
   "cell_type": "code",
   "execution_count": 5,
   "metadata": {},
   "outputs": [],
   "source": [
    "# Start the driver\n",
    "driver = webdriver.Chrome(executable_path='/Users/romebell/Downloads/chromedriver')\n",
    "# print(driver)\n",
    "\n",
    "# Quit the driver\n",
    "# driver.quit()"
   ]
  },
  {
   "cell_type": "code",
   "execution_count": 6,
   "metadata": {},
   "outputs": [
    {
     "name": "stdout",
     "output_type": "stream",
     "text": [
      "* Going to Twitter\n"
     ]
    }
   ],
   "source": [
    "# Go to Twitter\n",
    "driver.get('https://twitter.com/login')\n",
    "print('*', 'Going to Twitter')"
   ]
  },
  {
   "cell_type": "code",
   "execution_count": 7,
   "metadata": {},
   "outputs": [],
   "source": [
    "# get username, input username\n",
    "username = driver.find_element_by_xpath('//*[@id=\"react-root\"]/div/div/div[2]/main/div/div/div[1]/form/div/div[1]/label/div/div[2]/div/input')\n",
    "username.send_keys('romebell5@gmail.com')"
   ]
  },
  {
   "cell_type": "code",
   "execution_count": 8,
   "metadata": {},
   "outputs": [],
   "source": [
    "from keys import password"
   ]
  },
  {
   "cell_type": "code",
   "execution_count": 9,
   "metadata": {},
   "outputs": [
    {
     "name": "stdout",
     "output_type": "stream",
     "text": [
      "* This is working...\n"
     ]
    }
   ],
   "source": [
    "password_input = driver.find_element_by_xpath('//*[@id=\"react-root\"]/div/div/div[2]/main/div/div/div[1]/form/div/div[2]/label/div/div[2]/div/input')\n",
    "# print(password_input)\n",
    "password_input.send_keys(password)\n",
    "print('*', 'This is working...')"
   ]
  },
  {
   "cell_type": "code",
   "execution_count": 10,
   "metadata": {},
   "outputs": [],
   "source": [
    "# Make login button, and click to login\n",
    "login_button = driver.find_element_by_xpath('//*[@id=\"react-root\"]/div/div/div[2]/main/div/div/div[1]/form/div/div[3]/div/div')\n",
    "login_button.click()"
   ]
  },
  {
   "cell_type": "code",
   "execution_count": 12,
   "metadata": {},
   "outputs": [
    {
     "name": "stdout",
     "output_type": "stream",
     "text": [
      "The Economist\n",
      "@TheEconomist\n",
      "·\n",
      "2m\n",
      "Chances seem strong that Ruth Bader Ginsburg’s seat—and America's Supreme court—will be radically refashioned by its next occupant\n",
      "The Supreme Court may be about to take a hard-right turn\n",
      "If Donald Trump manages to install a new justice\n",
      "economist.com\n",
      "3\n",
      "7\n",
      "14\n"
     ]
    }
   ],
   "source": [
    "tweet = driver.find_element_by_xpath('//*[@id=\"react-root\"]/div/div/div[2]/main/div/div/div/div[1]/div/div[4]/div/div/section/div/div/div[10]/div/div/article/div/div/div/div[2]').text\n",
    "print(tweet)"
   ]
  },
  {
   "cell_type": "code",
   "execution_count": 15,
   "metadata": {},
   "outputs": [
    {
     "name": "stdout",
     "output_type": "stream",
     "text": [
      "['The Economist', '@TheEconomist', '·', '2m', \"Chances seem strong that Ruth Bader Ginsburg’s seat—and America's Supreme court—will be radically refashioned by its next occupant\", 'The Supreme Court may be about to take a hard-right turn', 'If Donald Trump manages to install a new justice', 'economist.com', '3', '7', '14']\n"
     ]
    }
   ],
   "source": [
    "tweet_list = tweet.split('\\n')\n",
    "print(tweet_list)"
   ]
  },
  {
   "cell_type": "code",
   "execution_count": 25,
   "metadata": {},
   "outputs": [
    {
     "name": "stdout",
     "output_type": "stream",
     "text": [
      "Chances seem strong that Ruth Bader Ginsburg’s seat—and America's Supreme court—will be radically refashioned by its next occupant The Supreme Court may be about to take a hard-right turn If Donald Trump manages to install a new justice economist.com\n"
     ]
    }
   ],
   "source": [
    "name = tweet_list[0]\n",
    "username = tweet_list[1]\n",
    "actual_tweet = tweet_list[4:-3]\n",
    "\n",
    "final_tweet = \" \".join(actual_tweet)\n",
    "likes = tweet_list[-1]\n",
    "\n",
    "print(final_tweet)"
   ]
  },
  {
   "cell_type": "code",
   "execution_count": 18,
   "metadata": {},
   "outputs": [],
   "source": [
    "import pymongo"
   ]
  },
  {
   "cell_type": "code",
   "execution_count": 22,
   "metadata": {},
   "outputs": [
    {
     "name": "stdout",
     "output_type": "stream",
     "text": [
      "MongoClient(host=['localhost:27017'], document_class=dict, tz_aware=False, connect=True)\n",
      "['GArcadeDB', 'admin', 'config', 'local', 'mernAuthDB', 'mern_app', 'mydatabase']\n"
     ]
    }
   ],
   "source": [
    "myclient = pymongo.MongoClient('mongodb://localhost:27017/')\n",
    "print(myclient)\n",
    "\n",
    "print(myclient.list_database_names())"
   ]
  },
  {
   "cell_type": "code",
   "execution_count": 23,
   "metadata": {},
   "outputs": [],
   "source": [
    "mydb = myclient['database']\n",
    "tweetCollection = mydb['tweets']"
   ]
  },
  {
   "cell_type": "code",
   "execution_count": 26,
   "metadata": {},
   "outputs": [],
   "source": [
    "data = {\n",
    "    \"name\": name,\n",
    "    \"username\": username,\n",
    "    \"tweet\": final_tweet,\n",
    "    \"likes\": likes\n",
    "}"
   ]
  },
  {
   "cell_type": "code",
   "execution_count": 27,
   "metadata": {},
   "outputs": [
    {
     "data": {
      "text/plain": [
       "<pymongo.results.InsertOneResult at 0x10454cc40>"
      ]
     },
     "execution_count": 27,
     "metadata": {},
     "output_type": "execute_result"
    }
   ],
   "source": [
    "tweetCollection.insert_one(data)"
   ]
  },
  {
   "cell_type": "code",
   "execution_count": 28,
   "metadata": {},
   "outputs": [
    {
     "name": "stdout",
     "output_type": "stream",
     "text": [
      "{'_id': ObjectId('5f6940726ec6257f59dbd64e'), 'name': 'The Economist', 'username': '@TheEconomist', 'tweet': \"Chances seem strong that Ruth Bader Ginsburg’s seat—and America's Supreme court—will be radically refashioned by its next occupant The Supreme Court may be about to take a hard-right turn If Donald Trump manages to install a new justice economist.com\", 'likes': '14'}\n"
     ]
    }
   ],
   "source": [
    "print(tweetCollection.find_one())"
   ]
  },
  {
   "cell_type": "code",
   "execution_count": null,
   "metadata": {},
   "outputs": [],
   "source": []
  }
 ],
 "metadata": {
  "kernelspec": {
   "display_name": "Python 3",
   "language": "python",
   "name": "python3"
  },
  "language_info": {
   "codemirror_mode": {
    "name": "ipython",
    "version": 3
   },
   "file_extension": ".py",
   "mimetype": "text/x-python",
   "name": "python",
   "nbconvert_exporter": "python",
   "pygments_lexer": "ipython3",
   "version": "3.8.5"
  }
 },
 "nbformat": 4,
 "nbformat_minor": 4
}
