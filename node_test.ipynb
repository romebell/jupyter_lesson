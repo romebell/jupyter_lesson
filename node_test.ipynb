{
 "cells": [
  {
   "cell_type": "code",
   "execution_count": 2,
   "metadata": {},
   "outputs": [
    {
     "name": "stdout",
     "output_type": "stream",
     "text": [
      "Pixiedust database opened successfully\n"
     ]
    },
    {
     "data": {
      "text/html": [
       "\n",
       "        <div style=\"margin:10px\">\n",
       "            <a href=\"https://github.com/ibm-watson-data-lab/pixiedust\" target=\"_new\">\n",
       "                <img src=\"https://github.com/ibm-watson-data-lab/pixiedust/raw/master/docs/_static/pd_icon32.png\" style=\"float:left;margin-right:10px\"/>\n",
       "            </a>\n",
       "            <span>Pixiedust version 1.1.18</span>\n",
       "        </div>\n",
       "        "
      ],
      "text/plain": [
       "<IPython.core.display.HTML object>"
      ]
     },
     "metadata": {},
     "output_type": "display_data"
    },
    {
     "data": {
      "text/html": [
       "\n",
       "            <div style=\"margin:10px\"> \n",
       "            <a href=\"https://github.com/ibm-cds-labs/pixiedust_node\" target=\"_new\"> \n",
       "            <img src=\"https://github.com/ibm-cds-labs/pixiedust_node/raw/master/docs/_images/pdn_icon32.png\" style=\"float:left;margin-right:10px\"/> \n",
       "            </a> \n",
       "            <span>Pixiedust Node.js</span> \n",
       "            </div> \n"
      ],
      "text/plain": [
       "<IPython.core.display.HTML object>"
      ]
     },
     "metadata": {},
     "output_type": "display_data"
    }
   ],
   "source": [
    "import pixiedust_node"
   ]
  },
  {
   "cell_type": "code",
   "execution_count": 3,
   "metadata": {},
   "outputs": [
    {
     "name": "stdout",
     "output_type": "stream",
     "text": [
      "pixiedust_node 0.2.5 started. Cells starting '%%node' may contain Node.js code.\n",
      "Apple\n"
     ]
    }
   ],
   "source": [
    "%%node\n",
    "\n",
    "const apple = 'Apple'\n",
    "console.log(apple);"
   ]
  },
  {
   "cell_type": "code",
   "execution_count": 4,
   "metadata": {},
   "outputs": [
    {
     "name": "stdout",
     "output_type": "stream",
     "text": [
      "Rome Bell\n"
     ]
    }
   ],
   "source": [
    "%%node\n",
    "\n",
    "const rome = 'Rome Bell'\n",
    "console.log(rome)"
   ]
  },
  {
   "cell_type": "code",
   "execution_count": 5,
   "metadata": {},
   "outputs": [
    {
     "name": "stdout",
     "output_type": "stream",
     "text": [
      "... ... ...\n",
      "Rome Bell\n"
     ]
    }
   ],
   "source": [
    "%%node\n",
    "\n",
    "function printThis(name) {\n",
    "//  console.log(name);\n",
    "    return name;\n",
    "}\n",
    "\n",
    "console.log(printThis('Rome Bell'))"
   ]
  },
  {
   "cell_type": "code",
   "execution_count": 6,
   "metadata": {},
   "outputs": [
    {
     "name": "stdout",
     "output_type": "stream",
     "text": [
      "... ... ..... ..... ... ...\n",
      "true\n",
      "\n",
      "false\n",
      "\n"
     ]
    }
   ],
   "source": [
    "%%node\n",
    "\n",
    "const isPrime = function(num) {\n",
    "    if (num <= 1) return false;\n",
    "    for (let i = 2; i < num; i++) {\n",
    "        if (num % i === 0) return false;\n",
    "    }\n",
    "    return true;\n",
    "}\n",
    "\n",
    "console.log(isPrime(7))\n",
    "console.log(isPrime(12))"
   ]
  },
  {
   "cell_type": "code",
   "execution_count": 7,
   "metadata": {
    "pixiedust": {
     "displayParams": {
      "handlerId": "tableView"
     }
    }
   },
   "outputs": [
    {
     "data": {
      "text/html": [
       "<div class=\"pixiedust\" pixiedust=\"{&quot;prefix&quot;: &quot;cb467b0d&quot;, &quot;command&quot;: &quot;display(pdf,cell_id=&apos;0172c12875a843878b024fb9c8dc08b7&apos;,nostore_pixiedust=&apos;true&apos;,nostore_cw=&apos;897&apos;,nostore_vh=&apos;605&apos;,org_params=&apos;nostore_pixiedust&apos;)&quot;, &quot;entity&quot;: &quot;pdf&quot;, &quot;options&quot;: {&quot;cell_id&quot;: &quot;0172c12875a843878b024fb9c8dc08b7&quot;, &quot;nostore_pixiedust&quot;: &quot;true&quot;, &quot;nostore_cw&quot;: &quot;897&quot;, &quot;nostore_vh&quot;: &quot;605&quot;, &quot;org_params&quot;: &quot;nostore_pixiedust&quot;}, &quot;sniffers&quot;: [], &quot;avoidMetadata&quot;: false, &quot;include_keys&quot;: [&quot;filter&quot;]}\">\n",
       "  \n",
       "  <button class=\"btn btn-default btn-sm expandButton\" data-toggle=\"collapse\"\n",
       "          data-target=\"#pixiedust-output-wrapper-cb467b0d\" title=\"Expand/Collapse Pixiedust output\">\n",
       "    <i class=\"fa\"></i>\n",
       "  </button>\n",
       "  \n",
       "  \n",
       "  <div id=\"pixiedust-output-wrapper-cb467b0d\" class=\"pixiedust-output-wrapper collapse in\">\n",
       "    \n",
       "      <div class=\"pixiedust-toolbar btn-group\" role=\"group\" style=\"margin-bottom:15px\">  \n",
       "      \n",
       "        \n",
       "          <a class=\"btn btn-small btn-default display-type-button\" id=\"menucb467b0d-tableView\" title=\"Table.Next\">\n",
       "            <i class=\"fa fa-table\"></i>\n",
       "          </a>\n",
       "          \n",
       "            <script>\n",
       "                $('#menucb467b0d-tableView').on('click', \n",
       "            \n",
       "            function(){\n",
       "                pixiedust.executeDisplay(\n",
       "                    {\"prefix\": \"cb467b0d\", \"command\": \"display(pdf,cell_id='0172c12875a843878b024fb9c8dc08b7',nostore_pixiedust='true',nostore_cw='897',nostore_vh='605',org_params='nostore_pixiedust',handlerId='tableView',prefix='cb467b0d')\", \"entity\": \"pdf\", \"options\": {\"cell_id\": \"0172c12875a843878b024fb9c8dc08b7\", \"nostore_pixiedust\": \"true\", \"nostore_cw\": \"897\", \"nostore_vh\": \"605\", \"org_params\": \"nostore_pixiedust\", \"handlerId\": \"tableView\", \"prefix\": \"cb467b0d\"}, \"sniffers\": [], \"avoidMetadata\": true, \"include_keys\": [\"filter\"]},\n",
       "                    {'targetDivId': 'wrapperHTMLcb467b0d' }\n",
       "                );\n",
       "            }\n",
       "            )\n",
       "            </script>\n",
       "        \n",
       "        \n",
       "      \n",
       "        \n",
       "          <div class=\"btn-group btn-small display-type-button\">\n",
       "            \n",
       "            <a class=\"btn btn-small dropdown-toggle btn-default\" data-toggle=\"dropdown\" title=\"Chart\">\n",
       "              \n",
       "              <i class=\"fa fa-line-chart\"></i>\n",
       "              \n",
       "              <i class=\"fa fa-chevron-down\"></i>\n",
       "            </a>\n",
       "            <div class=\"dropdown-menu\" role=\"menu\" style=\"white-space:nowrap\">\n",
       "              <ul>\n",
       "              \n",
       "                <li id=\"menucb467b0d-barChart\">\n",
       "                  \n",
       "                  <i class=\"fa fa-bar-chart\"></i>\n",
       "                  \n",
       "                  <span>Bar Chart</span>\n",
       "                  \n",
       "            <script>\n",
       "                $('#menucb467b0d-barChart').on('click', \n",
       "            \n",
       "            function(){\n",
       "                pixiedust.executeDisplay(\n",
       "                    {\"prefix\": \"cb467b0d\", \"command\": \"display(pdf,cell_id='0172c12875a843878b024fb9c8dc08b7',nostore_pixiedust='true',nostore_cw='897',nostore_vh='605',org_params='nostore_pixiedust',handlerId='barChart',prefix='cb467b0d')\", \"entity\": \"pdf\", \"options\": {\"cell_id\": \"0172c12875a843878b024fb9c8dc08b7\", \"nostore_pixiedust\": \"true\", \"nostore_cw\": \"897\", \"nostore_vh\": \"605\", \"org_params\": \"nostore_pixiedust\", \"handlerId\": \"barChart\", \"prefix\": \"cb467b0d\"}, \"sniffers\": [], \"avoidMetadata\": true, \"include_keys\": [\"filter\"]},\n",
       "                    {'targetDivId': 'wrapperHTMLcb467b0d' }\n",
       "                );\n",
       "            }\n",
       "            )\n",
       "            </script>\n",
       "        \n",
       "                </li>\n",
       "              \n",
       "                <li id=\"menucb467b0d-lineChart\">\n",
       "                  \n",
       "                  <i class=\"fa fa-line-chart\"></i>\n",
       "                  \n",
       "                  <span>Line Chart</span>\n",
       "                  \n",
       "            <script>\n",
       "                $('#menucb467b0d-lineChart').on('click', \n",
       "            \n",
       "            function(){\n",
       "                pixiedust.executeDisplay(\n",
       "                    {\"prefix\": \"cb467b0d\", \"command\": \"display(pdf,cell_id='0172c12875a843878b024fb9c8dc08b7',nostore_pixiedust='true',nostore_cw='897',nostore_vh='605',org_params='nostore_pixiedust',handlerId='lineChart',prefix='cb467b0d')\", \"entity\": \"pdf\", \"options\": {\"cell_id\": \"0172c12875a843878b024fb9c8dc08b7\", \"nostore_pixiedust\": \"true\", \"nostore_cw\": \"897\", \"nostore_vh\": \"605\", \"org_params\": \"nostore_pixiedust\", \"handlerId\": \"lineChart\", \"prefix\": \"cb467b0d\"}, \"sniffers\": [], \"avoidMetadata\": true, \"include_keys\": [\"filter\"]},\n",
       "                    {'targetDivId': 'wrapperHTMLcb467b0d' }\n",
       "                );\n",
       "            }\n",
       "            )\n",
       "            </script>\n",
       "        \n",
       "                </li>\n",
       "              \n",
       "                <li id=\"menucb467b0d-scatterPlot\">\n",
       "                  \n",
       "                  <i class=\"fa fa-circle\"></i>\n",
       "                  \n",
       "                  <span>Scatter Plot</span>\n",
       "                  \n",
       "            <script>\n",
       "                $('#menucb467b0d-scatterPlot').on('click', \n",
       "            \n",
       "            function(){\n",
       "                pixiedust.executeDisplay(\n",
       "                    {\"prefix\": \"cb467b0d\", \"command\": \"display(pdf,cell_id='0172c12875a843878b024fb9c8dc08b7',nostore_pixiedust='true',nostore_cw='897',nostore_vh='605',org_params='nostore_pixiedust',handlerId='scatterPlot',prefix='cb467b0d')\", \"entity\": \"pdf\", \"options\": {\"cell_id\": \"0172c12875a843878b024fb9c8dc08b7\", \"nostore_pixiedust\": \"true\", \"nostore_cw\": \"897\", \"nostore_vh\": \"605\", \"org_params\": \"nostore_pixiedust\", \"handlerId\": \"scatterPlot\", \"prefix\": \"cb467b0d\"}, \"sniffers\": [], \"avoidMetadata\": true, \"include_keys\": [\"filter\"]},\n",
       "                    {'targetDivId': 'wrapperHTMLcb467b0d' }\n",
       "                );\n",
       "            }\n",
       "            )\n",
       "            </script>\n",
       "        \n",
       "                </li>\n",
       "              \n",
       "                <li id=\"menucb467b0d-pieChart\">\n",
       "                  \n",
       "                  <i class=\"fa fa-pie-chart\"></i>\n",
       "                  \n",
       "                  <span>Pie Chart</span>\n",
       "                  \n",
       "            <script>\n",
       "                $('#menucb467b0d-pieChart').on('click', \n",
       "            \n",
       "            function(){\n",
       "                pixiedust.executeDisplay(\n",
       "                    {\"prefix\": \"cb467b0d\", \"command\": \"display(pdf,cell_id='0172c12875a843878b024fb9c8dc08b7',nostore_pixiedust='true',nostore_cw='897',nostore_vh='605',org_params='nostore_pixiedust',handlerId='pieChart',prefix='cb467b0d')\", \"entity\": \"pdf\", \"options\": {\"cell_id\": \"0172c12875a843878b024fb9c8dc08b7\", \"nostore_pixiedust\": \"true\", \"nostore_cw\": \"897\", \"nostore_vh\": \"605\", \"org_params\": \"nostore_pixiedust\", \"handlerId\": \"pieChart\", \"prefix\": \"cb467b0d\"}, \"sniffers\": [], \"avoidMetadata\": true, \"include_keys\": [\"filter\"]},\n",
       "                    {'targetDivId': 'wrapperHTMLcb467b0d' }\n",
       "                );\n",
       "            }\n",
       "            )\n",
       "            </script>\n",
       "        \n",
       "                </li>\n",
       "              \n",
       "                <li id=\"menucb467b0d-mapView\">\n",
       "                  \n",
       "                  <i class=\"fa fa-globe\"></i>\n",
       "                  \n",
       "                  <span>Map</span>\n",
       "                  \n",
       "            <script>\n",
       "                $('#menucb467b0d-mapView').on('click', \n",
       "            \n",
       "            function(){\n",
       "                pixiedust.executeDisplay(\n",
       "                    {\"prefix\": \"cb467b0d\", \"command\": \"display(pdf,cell_id='0172c12875a843878b024fb9c8dc08b7',nostore_pixiedust='true',nostore_cw='897',nostore_vh='605',org_params='nostore_pixiedust',handlerId='mapView',prefix='cb467b0d')\", \"entity\": \"pdf\", \"options\": {\"cell_id\": \"0172c12875a843878b024fb9c8dc08b7\", \"nostore_pixiedust\": \"true\", \"nostore_cw\": \"897\", \"nostore_vh\": \"605\", \"org_params\": \"nostore_pixiedust\", \"handlerId\": \"mapView\", \"prefix\": \"cb467b0d\"}, \"sniffers\": [], \"avoidMetadata\": true, \"include_keys\": [\"filter\"]},\n",
       "                    {'targetDivId': 'wrapperHTMLcb467b0d' }\n",
       "                );\n",
       "            }\n",
       "            )\n",
       "            </script>\n",
       "        \n",
       "                </li>\n",
       "              \n",
       "                <li id=\"menucb467b0d-histogram\">\n",
       "                  \n",
       "                  <i class=\"fa fa-area-chart\"></i>\n",
       "                  \n",
       "                  <span>Histogram</span>\n",
       "                  \n",
       "            <script>\n",
       "                $('#menucb467b0d-histogram').on('click', \n",
       "            \n",
       "            function(){\n",
       "                pixiedust.executeDisplay(\n",
       "                    {\"prefix\": \"cb467b0d\", \"command\": \"display(pdf,cell_id='0172c12875a843878b024fb9c8dc08b7',nostore_pixiedust='true',nostore_cw='897',nostore_vh='605',org_params='nostore_pixiedust',handlerId='histogram',prefix='cb467b0d')\", \"entity\": \"pdf\", \"options\": {\"cell_id\": \"0172c12875a843878b024fb9c8dc08b7\", \"nostore_pixiedust\": \"true\", \"nostore_cw\": \"897\", \"nostore_vh\": \"605\", \"org_params\": \"nostore_pixiedust\", \"handlerId\": \"histogram\", \"prefix\": \"cb467b0d\"}, \"sniffers\": [], \"avoidMetadata\": true, \"include_keys\": [\"filter\"]},\n",
       "                    {'targetDivId': 'wrapperHTMLcb467b0d' }\n",
       "                );\n",
       "            }\n",
       "            )\n",
       "            </script>\n",
       "        \n",
       "                </li>\n",
       "              \n",
       "              </ul>\n",
       "            </div>\n",
       "          </div>\n",
       "        \n",
       "      \n",
       "        \n",
       "      \n",
       "        \n",
       "      \n",
       "        \n",
       "          <a class=\"btn btn-small btn-default display-type-button\" id=\"menucb467b0d-downloadFile\" title=\"Download as File\">\n",
       "            <i class=\"fa fa-download\"></i>\n",
       "          </a>\n",
       "          \n",
       "            <script>\n",
       "                $('#menucb467b0d-downloadFile').on('click', \n",
       "            \n",
       "            function(){\n",
       "                pixiedust.executeDisplay(\n",
       "                    {\"prefix\": \"cb467b0d\", \"command\": \"display(pdf,cell_id='0172c12875a843878b024fb9c8dc08b7',nostore_pixiedust='true',nostore_cw='897',nostore_vh='605',org_params='nostore_pixiedust',handlerId='downloadFile',prefix='cb467b0d')\", \"entity\": \"pdf\", \"options\": {\"cell_id\": \"0172c12875a843878b024fb9c8dc08b7\", \"nostore_pixiedust\": \"true\", \"nostore_cw\": \"897\", \"nostore_vh\": \"605\", \"org_params\": \"nostore_pixiedust\", \"handlerId\": \"downloadFile\", \"prefix\": \"cb467b0d\"}, \"sniffers\": [], \"avoidMetadata\": true, \"include_keys\": [\"filter\"]},\n",
       "                    {'targetDivId': 'wrapperHTMLcb467b0d' }\n",
       "                );\n",
       "            }\n",
       "            )\n",
       "            </script>\n",
       "        \n",
       "        \n",
       "      \n",
       "        <a id=\"filterbuttoncb467b0d\" href=\"#filtercb467b0d\" class=\"btn btn-small btn-default display-type-button\" data-toggle=\"collapse\" title=\"Filter\">\n",
       "          <i class=\"fa fa-filter\" aria-hidden=\"true\"></i>\n",
       "        </a>\n",
       "      </div>\n",
       "      <div id=\"filtercb467b0d\" class=\"collapse no_loading_msg\" style=\"margin-bottom:15px;padding:10px 15px;border: 1px solid #eaeaea;background-color: #fafafa;\">\n",
       "        <div pd_render_onload pd_app=\"pixiedust.display.chart.filter.FilterApp\" class=\"no_loading_msg\">\n",
       "          <script>\n",
       "            $(document).trigger('pd_event', {type:\"pd_load\", targetNode: $(\"#filtercb467b0d\")});\n",
       "          </script>\n",
       "        </div>\n",
       "      </div>\n",
       "    \n",
       "    <div id=\"wrapperJScb467b0d\"></div>\n",
       "    <div id=\"wrapperHTMLcb467b0d\" class=\"pixiedustWrapperHTML\" pd_init\n",
       "        pixiedust=\"{&quot;prefix&quot;: &quot;cb467b0d&quot;, &quot;command&quot;: &quot;display(pdf,cell_id=&apos;0172c12875a843878b024fb9c8dc08b7&apos;,nostore_pixiedust=&apos;true&apos;,nostore_cw=&apos;897&apos;,nostore_vh=&apos;605&apos;,org_params=&apos;nostore_pixiedust&apos;)&quot;, &quot;entity&quot;: &quot;pdf&quot;, &quot;options&quot;: {&quot;cell_id&quot;: &quot;0172c12875a843878b024fb9c8dc08b7&quot;, &quot;nostore_pixiedust&quot;: &quot;true&quot;, &quot;nostore_cw&quot;: &quot;897&quot;, &quot;nostore_vh&quot;: &quot;605&quot;, &quot;org_params&quot;: &quot;nostore_pixiedust&quot;}, &quot;sniffers&quot;: [], &quot;avoidMetadata&quot;: false, &quot;include_keys&quot;: [&quot;filter&quot;]}\" style=\"min-height:100px\"></div>\n",
       "  </div>\n",
       "</div>\n",
       "                    <script>\n",
       "                    (\n",
       "            \n",
       "            function(){\n",
       "                pixiedust.executeDisplay(\n",
       "                    {\"prefix\": \"cb467b0d\", \"command\": \"display(pdf,cell_id='0172c12875a843878b024fb9c8dc08b7',nostore_pixiedust='true',nostore_cw='897',nostore_vh='605',org_params='nostore_pixiedust',handlerId='tableView',prefix='cb467b0d')\", \"entity\": \"pdf\", \"options\": {\"cell_id\": \"0172c12875a843878b024fb9c8dc08b7\", \"nostore_pixiedust\": \"true\", \"nostore_cw\": \"897\", \"nostore_vh\": \"605\", \"org_params\": \"nostore_pixiedust\", \"handlerId\": \"tableView\", \"prefix\": \"cb467b0d\"}, \"sniffers\": [], \"avoidMetadata\": true, \"include_keys\": [\"filter\"]},\n",
       "                    {'targetDivId': 'wrapperHTMLcb467b0d' }\n",
       "                );\n",
       "            }\n",
       "            )();\n",
       "                    </script>\n",
       "                </div>"
      ],
      "text/plain": [
       "<IPython.core.display.HTML object>"
      ]
     },
     "metadata": {},
     "output_type": "display_data"
    }
   ],
   "source": [
    "%%node\n",
    "var data = [];\n",
    "for (var i = 0; i < 1000; i++) {\n",
    "    var x = 2*Math.PI * i/ 360;\n",
    "    var obj = {\n",
    "      x: x,\n",
    "      i: i,\n",
    "      sin: Math.sin(x),\n",
    "      cos: Math.cos(x),\n",
    "      tan: Math.tan(x)\n",
    "    };\n",
    "    data.push(obj);\n",
    "}\n",
    "display(data);"
   ]
  },
  {
   "cell_type": "code",
   "execution_count": 8,
   "metadata": {},
   "outputs": [
    {
     "name": "stdout",
     "output_type": "stream",
     "text": [
      "/usr/local/bin/npm install -s axios\n",
      "+ axios@0.20.0\n",
      "added 2 packages from 4 contributors and audited 2 packages in 0.424s\n",
      "1 package is looking for funding\n",
      "run `npm fund` for details\n",
      "found 0 vulnerabilities\n"
     ]
    }
   ],
   "source": [
    "npm.install('axios')"
   ]
  },
  {
   "cell_type": "code",
   "execution_count": 10,
   "metadata": {},
   "outputs": [],
   "source": [
    "%%node\n",
    "const axios = require('axios')"
   ]
  },
  {
   "cell_type": "code",
   "execution_count": 22,
   "metadata": {},
   "outputs": [
    {
     "name": "stdout",
     "output_type": "stream",
     "text": [
      "... ... ... ... ...\n",
      "{\n",
      "login: 'romebell',\n",
      "id: 13144457,\n",
      "node_id: 'MDQ6VXNlcjEzMTQ0NDU3',\n",
      "avatar_url: 'https://avatars2.githubusercontent.com/u/13144457?v=4',\n",
      "gravatar_id: '',\n",
      "url: 'https://api.github.com/users/romebell',\n",
      "html_url: 'https://github.com/romebell',\n",
      "followers_url: 'https://api.github.com/users/romebell/followers',\n",
      "following_url: 'https://api.github.com/users/romebell/following{/other_user}',\n",
      "gists_url: 'https://api.github.com/users/romebell/gists{/gist_id}',\n",
      "starred_url: 'https://api.github.com/users/romebell/starred{/owner}{/repo}',\n",
      "subscriptions_url: 'https://api.github.com/users/romebell/subscriptions',\n",
      "organizations_url: 'https://api.github.com/users/romebell/orgs',\n",
      "repos_url: 'https://api.github.com/users/romebell/repos',\n",
      "events_url: 'https://api.github.com/users/romebell/events{/privacy}',\n",
      "received_events_url: 'https://api.github.com/users/romebell/received_events',\n",
      "type: 'User',\n",
      "site_admin: false,\n",
      "name: 'Rome Bell',\n",
      "company: null,\n",
      "blog: '',\n",
      "location: 'San Francisco Bay Area',\n",
      "email: null,\n",
      "hireable: null,\n",
      "bio: 'Backend Engineer, Instructor',\n",
      "twitter_username: 'romebell',\n",
      "public_repos: 64,\n",
      "public_gists: 1,\n",
      "followers: 68,\n",
      "following: 115,\n",
      "created_at: '2015-07-02T03:18:03Z',\n",
      "updated_at: '2020-09-22T14:41:52Z'\n",
      "}\n",
      "romebell\n",
      "Backend Engineer, Instructor\n",
      "San Francisco Bay Area\n"
     ]
    }
   ],
   "source": [
    "%%node\n",
    "\n",
    "axios.get('https://api.github.com/users/romebell').then(response => {\n",
    "    console.log(response.data)\n",
    "    console.log(response.data.login)\n",
    "    console.log(response.data.bio)\n",
    "    console.log(response.data.location)\n",
    "}).catch(err => print(err))"
   ]
  },
  {
   "cell_type": "code",
   "execution_count": null,
   "metadata": {},
   "outputs": [],
   "source": []
  }
 ],
 "metadata": {
  "kernelspec": {
   "display_name": "Python 3",
   "language": "python",
   "name": "python3"
  },
  "language_info": {
   "codemirror_mode": {
    "name": "ipython",
    "version": 3
   },
   "file_extension": ".py",
   "mimetype": "text/x-python",
   "name": "python",
   "nbconvert_exporter": "python",
   "pygments_lexer": "ipython3",
   "version": "3.8.5"
  }
 },
 "nbformat": 4,
 "nbformat_minor": 4
}
